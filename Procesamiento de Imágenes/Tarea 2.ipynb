{
 "cells": [
  {
   "cell_type": "markdown",
   "metadata": {},
   "source": [
    "# Tarea 2\n",
    "\n",
    "__Instrucciones__: Resuelve correctamente lo que se te pide\n",
    "\n",
    "Realiza un programa que incluya cada una de las siguientes actividades.\n",
    "\n",
    "## Operaciones con filtros\n",
    "\n",
    "Dada la imagen en escala de grises que se indica en cada ejercicio, diseñar un algoritmo para cada tipo de filtro mostrando en el código fuente los cálculos implicados y la secuencia de barrido utilizada para mover la máscara en la imagen. Además, muestre la imagen original y las tres imágenes filtradas para cada uno de los casos. Interpretar resultados.\n",
    "\n",
    "### Filtro promedio"
   ]
  },
  {
   "cell_type": "code",
   "execution_count": 1,
   "metadata": {},
   "outputs": [],
   "source": [
    "import numpy as np\n",
    "\n",
    "class SpatialFilter: #Clase para filtro espacial\n",
    "  def __init__(self, origin, mask):\n",
    "    self.set_mask(mask)\n",
    "    self.set_origin(origin)\n",
    "  \n",
    "  def set_origin(self, origin):\n",
    "    self.f = origin\n",
    "    self.M, self.N = origin.shape\n",
    "\n",
    "  def set_mask(self, mask):\n",
    "    m, n = mask.shape\n",
    "    if(m == n and m >= 3 and n >= 3 and m % 2 == 1 and n % 2 == 1):\n",
    "      self.m = m\n",
    "      self.n = n\n",
    "      self.w = mask\n",
    "      self.a = int((m - 1) / 2)\n",
    "      self.b = int((n - 1) / 2)\n",
    "      self.s = mask.shape[0]\n",
    "    else:\n",
    "      raise Exception('invalid w shape')\n",
    "  \n",
    "  def __inside(self, x, y):\n",
    "    return x >= 0 and x < self.m and y >= 0 and y < self.n\n",
    "  \n",
    "  def __filter_correlation(self, x, y):\n",
    "    g = 0\n",
    "    for s in range(-self.a, self.a + 1):\n",
    "      for t in range(-self.b, self.b + 1):\n",
    "        g += self.w[s + self.a, t + self.b] * (self.f[x + s, y + t] if self.__inside(x + s, y + t) else 0)\n",
    "    return g\n",
    "\n",
    "  def __filter_convolution(self, x, y):\n",
    "    g = 0\n",
    "    for s in range(-self.a, self.a + 1):\n",
    "      for t in range(-self.b, self.b + 1):\n",
    "        g += self.w[s + self.a, t + self.b] * (self.f[x - s, y - t] if self.__inside(x - s, y - t) else 0)\n",
    "    return g\n",
    "  \n",
    "  def __cor_con(self, operation):\n",
    "    result = np.zeros([self.M, self.N])\n",
    "    for x in range(-self.a, self.M + self.a):\n",
    "      for y in range(-self.b, self.N + self.b):\n",
    "        g = self.__filter_correlation(x, y) if operation else self.__filter_convolution(x, y)\n",
    "        if(self.__inside(x, y)):\n",
    "          if(g < 0):\n",
    "            g = 0\n",
    "          if(g > 255):\n",
    "            g = 255\n",
    "          result[x, y] = int(g)\n",
    "    return result\n",
    "\n",
    "  def correlation(self):\n",
    "    return self.__cor_con(True)\n",
    "  \n",
    "  def convolution(self):\n",
    "    return self.__cor_con(False)"
   ]
  },
  {
   "cell_type": "code",
   "execution_count": null,
   "metadata": {},
   "outputs": [],
   "source": [
    "import cv2\n",
    "\n",
    "img = cv2.imread('imagen.png', 0)"
   ]
  }
 ],
 "metadata": {
  "kernelspec": {
   "display_name": "Python 3.10.5 64-bit",
   "language": "python",
   "name": "python3"
  },
  "language_info": {
   "codemirror_mode": {
    "name": "ipython",
    "version": 3
   },
   "file_extension": ".py",
   "mimetype": "text/x-python",
   "name": "python",
   "nbconvert_exporter": "python",
   "pygments_lexer": "ipython3",
   "version": "3.10.5"
  },
  "orig_nbformat": 4,
  "vscode": {
   "interpreter": {
    "hash": "b7d009336def52a998187f0c74cb0dcae5efaff3652a19f33f60b07f7f81c0f3"
   }
  }
 },
 "nbformat": 4,
 "nbformat_minor": 2
}
