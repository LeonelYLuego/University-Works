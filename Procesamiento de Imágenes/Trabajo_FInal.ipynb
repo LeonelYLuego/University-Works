{
 "cells": [
  {
   "cell_type": "markdown",
   "metadata": {},
   "source": [
    "# Sección 1"
   ]
  },
  {
   "cell_type": "code",
   "execution_count": 66,
   "metadata": {},
   "outputs": [
    {
     "name": "stdout",
     "output_type": "stream",
     "text": [
      "[[0 0 0 ... 0 0 0]\n",
      " [0 0 0 ... 0 0 0]\n",
      " [0 0 0 ... 0 0 0]\n",
      " ...\n",
      " [0 0 0 ... 0 0 0]\n",
      " [0 0 0 ... 0 0 0]\n",
      " [0 0 0 ... 0 0 0]]\n"
     ]
    }
   ],
   "source": [
    "import cv2\n",
    "import numpy as np\n",
    "imagen = cv2.imread('./ImagenesBinarizadas/IMG12.png')\n",
    "gray = cv2.cvtColor(imagen,cv2.COLOR_BGR2GRAY)\n",
    "ret,th = cv2.threshold(gray,200,255,cv2.THRESH_BINARY_INV)\n",
    "\n",
    "contornos, jerarquia = cv2.findContours(th,cv2.RETR_EXTERNAL,cv2.CHAIN_APPROX_SIMPLE)\n",
    "\n",
    "for i in range(len(contornos)):\n",
    "    cv2.drawContours(imagen,contornos,i,(0,0,255),3)\n",
    "    #print('contorno',i,'=',len(contornos[i]))\n",
    "    cv2.imshow('imagen',imagen)\n",
    "    cv2.waitKey(0)\n",
    "\n",
    "cv2.imshow('th',th)\n",
    "cv2.waitKey(0)\n",
    "cv2.destroyAllWindows()"
   ]
  }
 ],
 "metadata": {
  "kernelspec": {
   "display_name": "Python 3.10.6 64-bit",
   "language": "python",
   "name": "python3"
  },
  "language_info": {
   "codemirror_mode": {
    "name": "ipython",
    "version": 3
   },
   "file_extension": ".py",
   "mimetype": "text/x-python",
   "name": "python",
   "nbconvert_exporter": "python",
   "pygments_lexer": "ipython3",
   "version": "3.10.6"
  },
  "orig_nbformat": 4,
  "vscode": {
   "interpreter": {
    "hash": "955af054776cd867da120d867fa644736fc97a1e97ced75b56d6d27549ba3b7b"
   }
  }
 },
 "nbformat": 4,
 "nbformat_minor": 2
}
